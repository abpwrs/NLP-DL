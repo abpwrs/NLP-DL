{
 "cells": [
  {
   "cell_type": "code",
   "execution_count": 1,
   "metadata": {},
   "outputs": [],
   "source": [
    "t = {0: {'N': 146139, 'P': 45882, 'TN': 145371, 'TP': 30},\n",
    " 1: {'N': 187236, 'P': 4785, 'TN': 187236, 'TP': 0},\n",
    " 2: {'N': 166674, 'P': 25347, 'TN': 166674, 'TP': 0},\n",
    " 3: {'N': 190587, 'P': 1434, 'TN': 190587, 'TP': 0},\n",
    " 4: {'N': 168390, 'P': 23631, 'TN': 168390, 'TP': 0},\n",
    " 5: {'N': 187806, 'P': 4215, 'TN': 187806, 'TP': 0}}"
   ]
  },
  {
   "cell_type": "code",
   "execution_count": null,
   "metadata": {},
   "outputs": [],
   "source": []
  }
 ],
 "metadata": {
  "kernelspec": {
   "display_name": "Python 3",
   "language": "python",
   "name": "python3"
  },
  "language_info": {
   "codemirror_mode": {
    "name": "ipython",
    "version": 3
   },
   "file_extension": ".py",
   "mimetype": "text/x-python",
   "name": "python",
   "nbconvert_exporter": "python",
   "pygments_lexer": "ipython3",
   "version": "3.6.6"
  }
 },
 "nbformat": 4,
 "nbformat_minor": 2
}
