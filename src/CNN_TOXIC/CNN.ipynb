{
 "cells": [
  {
   "cell_type": "markdown",
   "metadata": {},
   "source": [
    "# [Convolutional Neural Network](https://en.wikipedia.org/wiki/Convolutional_neural_network) for NLP"
   ]
  },
  {
   "cell_type": "markdown",
   "metadata": {},
   "source": [
    "Import packages"
   ]
  },
  {
   "cell_type": "code",
   "execution_count": 2,
   "metadata": {},
   "outputs": [
    {
     "ename": "ModuleNotFoundError",
     "evalue": "No module named 'tensorflow'",
     "output_type": "error",
     "traceback": [
      "\u001b[0;31m---------------------------------------------------------------------------\u001b[0m",
      "\u001b[0;31mModuleNotFoundError\u001b[0m                       Traceback (most recent call last)",
      "\u001b[0;32m<ipython-input-2-04713228be61>\u001b[0m in \u001b[0;36m<module>\u001b[0;34m()\u001b[0m\n\u001b[1;32m      1\u001b[0m \u001b[0;32mfrom\u001b[0m \u001b[0msklearn\u001b[0m\u001b[0;34m.\u001b[0m\u001b[0mmodel_selection\u001b[0m \u001b[0;32mimport\u001b[0m \u001b[0mtrain_test_split\u001b[0m\u001b[0;34m\u001b[0m\u001b[0m\n\u001b[0;32m----> 2\u001b[0;31m \u001b[0;32mfrom\u001b[0m \u001b[0mtensorflow\u001b[0m\u001b[0;34m.\u001b[0m\u001b[0mpython\u001b[0m\u001b[0;34m.\u001b[0m\u001b[0mclient\u001b[0m \u001b[0;32mimport\u001b[0m \u001b[0mdevice_lib\u001b[0m\u001b[0;34m\u001b[0m\u001b[0m\n\u001b[0m\u001b[1;32m      3\u001b[0m \u001b[0;32mfrom\u001b[0m \u001b[0msklearn\u001b[0m\u001b[0;34m.\u001b[0m\u001b[0mmetrics\u001b[0m \u001b[0;32mimport\u001b[0m \u001b[0mconfusion_matrix\u001b[0m\u001b[0;34m\u001b[0m\u001b[0m\n\u001b[1;32m      4\u001b[0m \u001b[0;32mfrom\u001b[0m \u001b[0msklearn\u001b[0m\u001b[0;34m.\u001b[0m\u001b[0mutils\u001b[0m \u001b[0;32mimport\u001b[0m \u001b[0mclass_weight\u001b[0m\u001b[0;34m\u001b[0m\u001b[0m\n\u001b[1;32m      5\u001b[0m \u001b[0;32mfrom\u001b[0m \u001b[0mmatplotlib\u001b[0m \u001b[0;32mimport\u001b[0m \u001b[0mpyplot\u001b[0m \u001b[0;32mas\u001b[0m \u001b[0mplt\u001b[0m\u001b[0;34m\u001b[0m\u001b[0m\n",
      "\u001b[0;31mModuleNotFoundError\u001b[0m: No module named 'tensorflow'"
     ]
    }
   ],
   "source": [
    "from sklearn.model_selection import train_test_split\n",
    "from tensorflow.python.client import device_lib\n",
    "from sklearn.metrics import confusion_matrix\n",
    "from sklearn.utils import class_weight\n",
    "from matplotlib import pyplot as plt\n",
    "from time import gmtime, strftime\n",
    "from pprint import pprint as pp\n",
    "from collections import Counter\n",
    "import multiprocessing as mp\n",
    "import tensorflow as tf\n",
    "import pandas as pd\n",
    "import numpy as np\n",
    "import json\n",
    "import nltk\n",
    "from nltk.stem import WordNetLemmatizer\n",
    "import os\n",
    "import re\n",
    "NUM_CLASSES=6\n",
    "NUM_FC1 = 800\n",
    "NUM_FC2 = 600\n",
    "MAX_COMMENT_LENGTH = 1000\n",
    "FEATUR_VECTOR_LENGTH = 1000\n",
    "LABELS = [\"toxic\",\"severe_toxic\",\"obscene\",\"threat\",\"insult\",\"identity_hate\"]\n",
    "PROJ_NAME = \"CNN_TOXIC\""
   ]
  },
  {
   "cell_type": "markdown",
   "metadata": {},
   "source": [
    "Print env stats"
   ]
  },
  {
   "cell_type": "code",
   "execution_count": 5,
   "metadata": {},
   "outputs": [
    {
     "name": "stdout",
     "output_type": "stream",
     "text": [
      "[name: \"/device:CPU:0\"\n",
      "device_type: \"CPU\"\n",
      "memory_limit: 268435456\n",
      "locality {\n",
      "}\n",
      "incarnation: 4462979149109047118\n",
      "]\n",
      "CPUs: 56\n"
     ]
    }
   ],
   "source": [
    "print(device_lib.list_local_devices())\n",
    "print(\"CPUs:\", mp.cpu_count())"
   ]
  },
  {
   "cell_type": "markdown",
   "metadata": {},
   "source": [
    "Load data, stopwords and config"
   ]
  },
  {
   "cell_type": "code",
   "execution_count": 6,
   "metadata": {},
   "outputs": [],
   "source": [
    "with open(\"/Users/abpwrs/NLP-DL/config.json\", \"rb\") as f:\n",
    "    config = json.load(f) # load config\n",
    "data_dir = os.path.join(config[\"data_dir\"],PROJ_NAME)\n",
    "model_dir = os.path.join(config[\"model_dir\"],PROJ_NAME)\n",
    "with open(os.path.join(data_dir,\"stopwords.txt\"), \"r\") as f:\n",
    "    stopwords = f.readlines() # load stopwords                              \n",
    "stopwords = set([i.split()[0] for i in stopwords]) # remove new line characters (\\n) from strings\n",
    "df = pd.read_csv(os.path.join(data_dir, \"train.csv\"))"
   ]
  },
  {
   "cell_type": "markdown",
   "metadata": {},
   "source": [
    "Colum names and basic description of data"
   ]
  },
  {
   "cell_type": "code",
   "execution_count": 35,
   "metadata": {},
   "outputs": [
    {
     "name": "stdout",
     "output_type": "stream",
     "text": [
      "['id',\n",
      " 'comment_text',\n",
      " 'toxic',\n",
      " 'severe_toxic',\n",
      " 'obscene',\n",
      " 'threat',\n",
      " 'insult',\n",
      " 'identity_hate']\n"
     ]
    },
    {
     "data": {
      "image/png": "[encoded data removed]",
      "text/plain": [
       "<Figure size 432x288 with 1 Axes>"
      ]
     },
     "metadata": {
      "needs_background": "light"
     },
     "output_type": "display_data"
    },
    {
     "data": {
      "text/html": [
       "<div>\n",
       "<style scoped>\n",
       "    .dataframe tbody tr th:only-of-type {\n",
       "        vertical-align: middle;\n",
       "    }\n",
       "\n",
       "    .dataframe tbody tr th {\n",
       "        vertical-align: top;\n",
       "    }\n",
       "\n",
       "    .dataframe thead th {\n",
       "        text-align: right;\n",
       "    }\n",
       "</style>\n",
       "<table border=\"1\" class=\"dataframe\">\n",
       "  <thead>\n",
       "    <tr style=\"text-align: right;\">\n",
       "      <th></th>\n",
       "      <th>toxic</th>\n",
       "      <th>severe_toxic</th>\n",
       "      <th>obscene</th>\n",
       "      <th>threat</th>\n",
       "      <th>insult</th>\n",
       "      <th>identity_hate</th>\n",
       "      <th>comment_length</th>\n",
       "    </tr>\n",
       "  </thead>\n",
       "  <tbody>\n",
       "    <tr>\n",
       "      <th>count</th>\n",
       "      <td>159571.000000</td>\n",
       "      <td>159571.000000</td>\n",
       "      <td>159571.000000</td>\n",
       "      <td>159571.000000</td>\n",
       "      <td>159571.000000</td>\n",
       "      <td>159571.000000</td>\n",
       "      <td>159571.000000</td>\n",
       "    </tr>\n",
       "    <tr>\n",
       "      <th>mean</th>\n",
       "      <td>0.095844</td>\n",
       "      <td>0.009996</td>\n",
       "      <td>0.052948</td>\n",
       "      <td>0.002996</td>\n",
       "      <td>0.049364</td>\n",
       "      <td>0.008805</td>\n",
       "      <td>394.073221</td>\n",
       "    </tr>\n",
       "    <tr>\n",
       "      <th>std</th>\n",
       "      <td>0.294379</td>\n",
       "      <td>0.099477</td>\n",
       "      <td>0.223931</td>\n",
       "      <td>0.054650</td>\n",
       "      <td>0.216627</td>\n",
       "      <td>0.093420</td>\n",
       "      <td>590.720282</td>\n",
       "    </tr>\n",
       "    <tr>\n",
       "      <th>min</th>\n",
       "      <td>0.000000</td>\n",
       "      <td>0.000000</td>\n",
       "      <td>0.000000</td>\n",
       "      <td>0.000000</td>\n",
       "      <td>0.000000</td>\n",
       "      <td>0.000000</td>\n",
       "      <td>6.000000</td>\n",
       "    </tr>\n",
       "    <tr>\n",
       "      <th>25%</th>\n",
       "      <td>0.000000</td>\n",
       "      <td>0.000000</td>\n",
       "      <td>0.000000</td>\n",
       "      <td>0.000000</td>\n",
       "      <td>0.000000</td>\n",
       "      <td>0.000000</td>\n",
       "      <td>96.000000</td>\n",
       "    </tr>\n",
       "    <tr>\n",
       "      <th>50%</th>\n",
       "      <td>0.000000</td>\n",
       "      <td>0.000000</td>\n",
       "      <td>0.000000</td>\n",
       "      <td>0.000000</td>\n",
       "      <td>0.000000</td>\n",
       "      <td>0.000000</td>\n",
       "      <td>205.000000</td>\n",
       "    </tr>\n",
       "    <tr>\n",
       "      <th>75%</th>\n",
       "      <td>0.000000</td>\n",
       "      <td>0.000000</td>\n",
       "      <td>0.000000</td>\n",
       "      <td>0.000000</td>\n",
       "      <td>0.000000</td>\n",
       "      <td>0.000000</td>\n",
       "      <td>435.000000</td>\n",
       "    </tr>\n",
       "    <tr>\n",
       "      <th>max</th>\n",
       "      <td>1.000000</td>\n",
       "      <td>1.000000</td>\n",
       "      <td>1.000000</td>\n",
       "      <td>1.000000</td>\n",
       "      <td>1.000000</td>\n",
       "      <td>1.000000</td>\n",
       "      <td>5000.000000</td>\n",
       "    </tr>\n",
       "  </tbody>\n",
       "</table>\n",
       "</div>"
      ],
      "text/plain": [
       "               toxic   severe_toxic        obscene         threat  \\\n",
       "count  159571.000000  159571.000000  159571.000000  159571.000000   \n",
       "mean        0.095844       0.009996       0.052948       0.002996   \n",
       "std         0.294379       0.099477       0.223931       0.054650   \n",
       "min         0.000000       0.000000       0.000000       0.000000   \n",
       "25%         0.000000       0.000000       0.000000       0.000000   \n",
       "50%         0.000000       0.000000       0.000000       0.000000   \n",
       "75%         0.000000       0.000000       0.000000       0.000000   \n",
       "max         1.000000       1.000000       1.000000       1.000000   \n",
       "\n",
       "              insult  identity_hate  comment_length  \n",
       "count  159571.000000  159571.000000   159571.000000  \n",
       "mean        0.049364       0.008805      394.073221  \n",
       "std         0.216627       0.093420      590.720282  \n",
       "min         0.000000       0.000000        6.000000  \n",
       "25%         0.000000       0.000000       96.000000  \n",
       "50%         0.000000       0.000000      205.000000  \n",
       "75%         0.000000       0.000000      435.000000  \n",
       "max         1.000000       1.000000     5000.000000  "
      ]
     },
     "execution_count": 35,
     "metadata": {},
     "output_type": "execute_result"
    }
   ],
   "source": [
    "# pp(list(df.columns))\n",
    "# df['comment_length'] = df.comment_text.str.len()\n",
    "# df['comment_length'].hist()\n",
    "# plt.show()\n",
    "# df.describe()"
   ]
  },
  {
   "cell_type": "code",
   "execution_count": 56,
   "metadata": {},
   "outputs": [],
   "source": [
    "def adjust_class_balance(df: pd.DataFrame, interested_labels, thresh):\n",
    "    dfs = {}\n",
    "    null = df.copy()\n",
    "    for name in interested_labels:\n",
    "        dfs[name] = df.loc[(df[name] == 1)]\n",
    "        null.drop(null[null[name]==1].index,axis=0,inplace=True)\n",
    "        \n",
    "    print(\"NULL:\", 100*(len(null)/len(df)))\n",
    "    for name, d in dfs.items():\n",
    "        print(\"Initial percentage of DF for\", name, \"is\", 100*(len(d)/len(df)))\n",
    "    \n",
    "    print(\"Each label will now have at least\", thresh*100,\"% of the origional df size\")\n",
    "    adjusted_df = null.sample(int(thresh*len(df))) # get a subsample of null cases\n",
    "    \n",
    "\n",
    "    for n, d in dfs.items():\n",
    "        i=0\n",
    "        for times in range(math.ceil((thresh/(len(d)/len(df))+1))):\n",
    "            adjusted_df = adjusted_df.append(d)\n",
    "            i+=1\n",
    "        print(n,\"upsampled\",i,\"times\")\n",
    "    return adjusted_df\n",
    "\n",
    "df = adjust_class_balance(df, LABELS, 1/(len(LABELS)+1))"
   ]
  },
  {
   "cell_type": "code",
   "execution_count": 36,
   "metadata": {},
   "outputs": [],
   "source": [
    "# CREDIT: https://github.com/yoonkim/CNN_sentence/blob/master/process_data.py\n",
    "def clean_comment(string):\n",
    "    string = re.sub(r\"[^A-Za-z0-9(),!?\\'\\`]\", \" \", string)     \n",
    "    string = re.sub(r\"\\'s\", \" \\'s\", string) \n",
    "    string = re.sub(r\"\\'ve\", \" \\'ve\", string) \n",
    "    string = re.sub(r\"n\\'t\", \" n\\'t\", string) \n",
    "    string = re.sub(r\"\\'re\", \" \\'re\", string) \n",
    "    string = re.sub(r\"\\'d\", \" \\'d\", string) \n",
    "    string = re.sub(r\"\\'ll\", \" \\'ll\", string) \n",
    "    string = re.sub(r\",\", \" , \", string) \n",
    "    string = re.sub(r\"!\", \" ! \", string) \n",
    "    string = re.sub(r\"\\(\", \" \\( \", string) \n",
    "    string = re.sub(r\"\\)\", \" \\) \", string) \n",
    "    string = re.sub(r\"\\?\", \" \\? \", string) \n",
    "    string = re.sub(r\"\\s{2,}\", \" \", string)\n",
    "    return string.lower()"
   ]
  },
  {
   "cell_type": "code",
   "execution_count": 37,
   "metadata": {},
   "outputs": [],
   "source": [
    "lemmatizer = WordNetLemmatizer()\n",
    "# CODE TO GENERATE CLEANED COMMENTS\n",
    "cleaned = [[lemmatizer.lemmatize(x) for x in nltk.word_tokenize(clean_comment(comment)) if x.isalpha() and not x in stopwords] for comment in df[\"comment_text\"]]\n",
    "np.save(os.path.join(data_dir, \"cleaned.npy\"), cleaned)\n",
    "# CODE TO LOAD CLEANED COMMENTS FROM FILE\n",
    "# cleaned = np.load(os.path.join(data_dir, \"cleaned.npy\"))"
   ]
  },
  {
   "cell_type": "code",
   "execution_count": 38,
   "metadata": {},
   "outputs": [],
   "source": [
    "def bag_of_words(data:np.array):\n",
    "    a = []\n",
    "    for sent in data:\n",
    "            for word in sent:\n",
    "                a.append(word)\n",
    "    bag = list(dict(Counter(a).most_common(FEATUR_VECTOR_LENGTH)).keys())\n",
    "    \n",
    "    vecs = []\n",
    "    for sent in data:\n",
    "        vec = []\n",
    "        for word in bag:\n",
    "            vec.append(int(word in sent))\n",
    "        vecs.append(vec)\n",
    "    return bag, vecs"
   ]
  },
  {
   "cell_type": "code",
   "execution_count": 39,
   "metadata": {},
   "outputs": [],
   "source": [
    "bag, vecs = bag_of_words(cleaned)\n",
    "vecs = np.array(vecs)\n",
    "np.save(os.path.join(data_dir, \"vectors.npy\"), vecs)\n",
    "with open(os.path.join(data_dir, \"bag.txt\"), 'w') as f:\n",
    "    for word in bag:\n",
    "        f.write(word+ \"\\n\")\n",
    "# vecs = np.load(os.path.join(data_dir, \"vectors.npy\")).astype(np.float32)"
   ]
  },
  {
   "cell_type": "code",
   "execution_count": 40,
   "metadata": {},
   "outputs": [],
   "source": [
    "labels = np.array(df[[\"toxic\",\"severe_toxic\",\"obscene\",\"threat\",\"insult\",\"identity_hate\"]])"
   ]
  },
  {
   "cell_type": "code",
   "execution_count": 49,
   "metadata": {},
   "outputs": [],
   "source": [
    "model = tf.keras.models.Sequential()\n",
    "model.add(tf.keras.layers.Conv1D(filters=5, kernel_size=3, strides=2, padding=\"same\"))\n",
    "model.add(tf.keras.layers.MaxPool1D(pool_size=3, strides=2, padding='same'))\n",
    "model.add(tf.keras.layers.Conv1D(filters=5, kernel_size=3, strides=2, padding=\"same\"))\n",
    "model.add(tf.keras.layers.MaxPool1D(pool_size=3, strides=2, padding='same'))\n",
    "model.add(tf.keras.layers.Flatten())\n",
    "model.add(tf.keras.layers.Dense(units=NUM_FC1, activation=tf.keras.activations.relu))\n",
    "model.add(tf.keras.layers.Dropout(rate=0.3))\n",
    "model.add(tf.keras.layers.Dense(units=NUM_FC2, activation=tf.keras.activations.relu))\n",
    "model.add(tf.keras.layers.Dense(NUM_CLASSES, activation='sigmoid'))\n",
    "model.compile(loss=tf.keras.losses.categorical_crossentropy, optimizer='adam', metrics=[tf.keras.metrics.mae,tf.keras.metrics.mse,tf.keras.metrics.categorical_crossentropy, tf.keras.metrics.categorical_accuracy])"
   ]
  },
  {
   "cell_type": "code",
   "execution_count": 50,
   "metadata": {},
   "outputs": [
    {
     "name": "stdout",
     "output_type": "stream",
     "text": [
      "(106912, 1000)\n"
     ]
    }
   ],
   "source": [
    "x_train, x_test, y_train, y_test = train_test_split(vecs, labels, test_size=0.33)\n",
    "x_train = x_train.reshape(x_train.shape[0], 1, FEATUR_VECTOR_LENGTH)\n",
    "x_test = x_test.reshape(x_test.shape[0], 1, FEATUR_VECTOR_LENGTH)"
   ]
  },
  {
   "cell_type": "code",
   "execution_count": 51,
   "metadata": {},
   "outputs": [],
   "source": [
    "output_model_dir = os.path.join(model_dir,\"uncorrected_\"+strftime(\"%Y-%m-%d_%H:%M:%S\", gmtime()))\n",
    "if not os.path.isdir(output_model_dir):\n",
    "    os.makedirs(output_model_dir)\n",
    "checkpoint_path = os.path.join(output_model_dir,\"cp-{epoch:04d}.ckpt\")\n",
    "\n",
    "cp_callback = tf.keras.callbacks.ModelCheckpoint(\n",
    "    checkpoint_path, verbose=1,\n",
    "    # Save weights, every 5-epochs.\n",
    "    period=2)\n"
   ]
  },
  {
   "cell_type": "code",
   "execution_count": 52,
   "metadata": {},
   "outputs": [
    {
     "name": "stdout",
     "output_type": "stream",
     "text": [
      "Train on 106912 samples, validate on 52659 samples\n",
      "Epoch 1/5\n",
      "106912/106912 [==============================] - 4s 33us/step - loss: 0.3115 - mean_absolute_error: 0.3854 - mean_squared_error: 0.2484 - categorical_crossentropy: 0.3115 - categorical_accuracy: 0.9858 - val_loss: 0.3016 - val_mean_absolute_error: 0.3297 - val_mean_squared_error: 0.2207 - val_categorical_crossentropy: 0.3016 - val_categorical_accuracy: 0.9936\n",
      "Epoch 2/5\n",
      "106912/106912 [==============================] - 3s 29us/step - loss: 0.2918 - mean_absolute_error: 0.3114 - mean_squared_error: 0.2093 - categorical_crossentropy: 0.2918 - categorical_accuracy: 0.9929 - val_loss: 0.2949 - val_mean_absolute_error: 0.3041 - val_mean_squared_error: 0.2047 - val_categorical_crossentropy: 0.2949 - val_categorical_accuracy: 0.9894\n",
      "\n",
      "Epoch 00002: saving model to /Users/abpwrs/NLP-DL/model/uncorrected_2018-11-03_20:02:22/cp-0002.ckpt\n",
      "Epoch 3/5\n",
      "106912/106912 [==============================] - 3s 28us/step - loss: 0.2856 - mean_absolute_error: 0.2818 - mean_squared_error: 0.1889 - categorical_crossentropy: 0.2856 - categorical_accuracy: 0.9869 - val_loss: 0.2909 - val_mean_absolute_error: 0.2771 - val_mean_squared_error: 0.1848 - val_categorical_crossentropy: 0.2909 - val_categorical_accuracy: 0.9832\n",
      "Epoch 4/5\n",
      "106912/106912 [==============================] - 3s 29us/step - loss: 0.2814 - mean_absolute_error: 0.2673 - mean_squared_error: 0.1811 - categorical_crossentropy: 0.2814 - categorical_accuracy: 0.9836 - val_loss: 0.2901 - val_mean_absolute_error: 0.2569 - val_mean_squared_error: 0.1756 - val_categorical_crossentropy: 0.2901 - val_categorical_accuracy: 0.9831\n",
      "\n",
      "Epoch 00004: saving model to /Users/abpwrs/NLP-DL/model/uncorrected_2018-11-03_20:02:22/cp-0004.ckpt\n",
      "Epoch 5/5\n",
      "106912/106912 [==============================] - 3s 30us/step - loss: 0.2795 - mean_absolute_error: 0.2631 - mean_squared_error: 0.1807 - categorical_crossentropy: 0.2795 - categorical_accuracy: 0.9818 - val_loss: 0.2899 - val_mean_absolute_error: 0.2543 - val_mean_squared_error: 0.1762 - val_categorical_crossentropy: 0.2899 - val_categorical_accuracy: 0.9825\n"
     ]
    },
    {
     "data": {
      "text/plain": [
       "<tensorflow.python.keras.callbacks.History at 0x2b080ae58cc0>"
      ]
     },
     "execution_count": 52,
     "metadata": {},
     "output_type": "execute_result"
    }
   ],
   "source": [
    "model.fit(x_train, y_train,\n",
    "          batch_size=500,\n",
    "          epochs=5,\n",
    "          verbose=1,\n",
    "          validation_data=(x_test, y_test),\n",
    "          callbacks = [cp_callback])"
   ]
  },
  {
   "cell_type": "code",
   "execution_count": 55,
   "metadata": {},
   "outputs": [
    {
     "name": "stdout",
     "output_type": "stream",
     "text": [
      "52659/52659 [==============================] - 3s 49us/step\n",
      "[0.2899430568366193,\n",
      " 0.2542817351034087,\n",
      " 0.1761526752725759,\n",
      " 0.2899430568366193,\n",
      " 0.98254809245176]\n"
     ]
    }
   ],
   "source": [
    "score = model.evaluate(x_test, y_test, verbose=1)\n",
    "pp(score)"
   ]
  },
  {
   "cell_type": "code",
   "execution_count": 16,
   "metadata": {},
   "outputs": [],
   "source": [
    "temp = vecs.reshape(vecs.shape[0], 1, FEATUR_VECTOR_LENGTH)\n",
    "result = {}\n",
    "for index in range(NUM_CLASSES):\n",
    "    temp_dict = {}\n",
    "    y_pred = model.predict(temp).astype(np.int32)\n",
    "    true_pos = true_neg = 0\n",
    "    pos = neg = 0\n",
    "    for p in range(len(y_pred)):\n",
    "        if labels[p][index] == 1:\n",
    "            pos += 1\n",
    "            if y_pred[p][index] == 1:\n",
    "                true_pos += 1\n",
    "        else:\n",
    "            neg += 1\n",
    "            if y_pred[p][index] == 0:\n",
    "                true_neg += 1\n",
    "        \n",
    "    temp_dict[\"TP\"] = true_pos\n",
    "    temp_dict[\"TN\"] = true_neg\n",
    "    temp_dict[\"P\"] = pos\n",
    "    temp_dict[\"N\"] = neg\n",
    "    result[index] = temp_dict"
   ]
  },
  {
   "cell_type": "code",
   "execution_count": 9,
   "metadata": {},
   "outputs": [
    {
     "ename": "NameError",
     "evalue": "name 'result' is not defined",
     "output_type": "error",
     "traceback": [
      "\u001b[0;31m---------------------------------------------------------------------------\u001b[0m",
      "\u001b[0;31mNameError\u001b[0m                                 Traceback (most recent call last)",
      "\u001b[0;32m<ipython-input-9-3a3956400167>\u001b[0m in \u001b[0;36m<module>\u001b[0;34m\u001b[0m\n\u001b[1;32m      1\u001b[0m \u001b[0;32mwith\u001b[0m \u001b[0mopen\u001b[0m\u001b[0;34m(\u001b[0m\u001b[0mos\u001b[0m\u001b[0;34m.\u001b[0m\u001b[0mpath\u001b[0m\u001b[0;34m.\u001b[0m\u001b[0mjoin\u001b[0m\u001b[0;34m(\u001b[0m\u001b[0mdata_dir\u001b[0m\u001b[0;34m,\u001b[0m \u001b[0;34m\"confusion.pkl\"\u001b[0m\u001b[0;34m)\u001b[0m\u001b[0;34m,\u001b[0m \u001b[0;34m\"wb\"\u001b[0m\u001b[0;34m)\u001b[0m \u001b[0;32mas\u001b[0m \u001b[0mf\u001b[0m\u001b[0;34m:\u001b[0m\u001b[0;34m\u001b[0m\u001b[0m\n\u001b[0;32m----> 2\u001b[0;31m     \u001b[0mjson\u001b[0m\u001b[0;34m.\u001b[0m\u001b[0mdump\u001b[0m\u001b[0;34m(\u001b[0m\u001b[0mresult\u001b[0m\u001b[0;34m,\u001b[0m\u001b[0mf\u001b[0m\u001b[0;34m)\u001b[0m\u001b[0;34m\u001b[0m\u001b[0m\n\u001b[0m",
      "\u001b[0;31mNameError\u001b[0m: name 'result' is not defined"
     ]
    }
   ],
   "source": [
    "pp(result)\n",
    "with open(os.path.join(data_dir, \"confusion.pkl\"), \"wb\") as f:\n",
    "    json.dump(result,f)"
   ]
  },
  {
   "cell_type": "code",
   "execution_count": null,
   "metadata": {},
   "outputs": [],
   "source": []
  },
  {
   "cell_type": "code",
   "execution_count": null,
   "metadata": {},
   "outputs": [],
   "source": []
  },
  {
   "cell_type": "code",
   "execution_count": null,
   "metadata": {},
   "outputs": [],
   "source": []
  }
 ],
 "metadata": {
  "kernelspec": {
   "display_name": "Python 3",
   "language": "python",
   "name": "python3"
  },
  "language_info": {
   "codemirror_mode": {
    "name": "ipython",
    "version": 3
   },
   "file_extension": ".py",
   "mimetype": "text/x-python",
   "name": "python",
   "nbconvert_exporter": "python",
   "pygments_lexer": "ipython3",
   "version": "3.6.7"
  }
 },
 "nbformat": 4,
 "nbformat_minor": 2
}
